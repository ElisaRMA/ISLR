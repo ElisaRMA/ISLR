{
 "cells": [
  {
   "cell_type": "markdown",
   "metadata": {},
   "source": [
    "## Statistical Learning: exercises"
   ]
  },
  {
   "cell_type": "code",
   "execution_count": 2,
   "metadata": {},
   "outputs": [],
   "source": [
    "%load_ext autoreload\n",
    "%autoreload 2\n",
    "import numpy as np\n",
    "import pandas as pd\n",
    "import matplotlib.pyplot as plt"
   ]
  },
  {
   "cell_type": "markdown",
   "metadata": {},
   "source": [
    "### 3. We now revisit the bias-variance decomposition.\n",
    "### (a) Provide a sketch of typical (squared) bias, variance, training error, test error, and Bayes (or irreducible) error curves, on a single plot, as we go from less flexible statistical learning methods towards more flexible approaches. The x-axis should represent the amount of flexibility in the method, and the y-axis should represent the values for each curve. There should be five curves. Make sure to label each one.\n",
    "### (b) Explain why each of the five curves has the shape displayed in part (a)."
   ]
  },
  {
   "cell_type": "markdown",
   "metadata": {},
   "source": [
    "to do"
   ]
  },
  {
   "cell_type": "markdown",
   "metadata": {},
   "source": [
    "### 5. What are the advantages and disadvantages of a very flexible (versus a less flexible) approach for regression or classification? Under what circumstances might a more flexible approach be preferred to a less flexible approach? When might a less flexible approach be preferred?"
   ]
  },
  {
   "cell_type": "markdown",
   "metadata": {},
   "source": [
    "On the inference problem, where we are interested in understanding the association between Y and Xn, less flexible models such as linear models are more indicated since it will be easy to understand the relationship between Y and Xn. In circumstances where your data is smooth flexible models are more indicated.\n",
    "\n",
    "Flexible models are pretty good at predictions problems but are less interpretable because is quite difficult to understand the relationship between Y and Xn. \n",
    "\n",
    "Tree-based models such as RF,  fit very well in highly variable data points, can model very wiggly curves to fit this data, however, this high flexibility comes at the cost of the increase of its variance and the risk of overfitting (capturing the noise in the data)."
   ]
  }
 ],
 "metadata": {
  "interpreter": {
   "hash": "b968f7a31f233996e946d3a36e923268eb65dc5d6f45fa1f8c106a0eded9d106"
  },
  "kernelspec": {
   "display_name": "Python 3.8.10 ('ISLR')",
   "language": "python",
   "name": "python3"
  },
  "language_info": {
   "codemirror_mode": {
    "name": "ipython",
    "version": 3
   },
   "file_extension": ".py",
   "mimetype": "text/x-python",
   "name": "python",
   "nbconvert_exporter": "python",
   "pygments_lexer": "ipython3",
   "version": "3.8.10"
  },
  "orig_nbformat": 4
 },
 "nbformat": 4,
 "nbformat_minor": 2
}
