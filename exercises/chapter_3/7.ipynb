{
 "cells": [
  {
   "cell_type": "markdown",
   "metadata": {},
   "source": [
    "### Chapter 3 - Exercise 7\n",
    "\n",
    "> Gil Miranda (https://github.com/gil-miranda)"
   ]
  },
  {
   "cell_type": "markdown",
   "metadata": {},
   "source": [
    "Queremos provar que, para a regressão linear `simples`, vale a igualdade\n",
    "\n",
    "$$\n",
    "R^2 = r^2 = Corr(X,Y)^2\n",
    "$$"
   ]
  },
  {
   "cell_type": "markdown",
   "metadata": {},
   "source": [
    "Onde:\n",
    "$$\n",
    "\\begin{align}\n",
    "Corr(X,Y) = \\frac{\\sum^n_{i=1}(x_i - \\bar{x})(y_i - \\bar{y})}{\\sqrt{\\sum^n_{i=1}(x_i - \\bar{x})^2} \\sqrt{\\sum^n_{i=1}(y_i - \\bar{y})^2}}\n",
    "\\tag{1}\n",
    "\\end{align}\n",
    "$$\n",
    "\n",
    "$$\n",
    "\\begin{equation*}\n",
    "R^2 = \\frac{TSS - RSS}{TSS}\n",
    "\\tag{2}\n",
    "\\end{equation*}\n",
    "$$\n",
    "\n",
    "$$\n",
    "\\begin{align*}\n",
    "RSS = \\sum^n_{i=1}(y_i-\\hat{y}_i)^2 \\quad TSS = \\sum^n_{i=1}(y_i-\\hat{y}_i)^2\n",
    "\\end{align*}\n",
    "$$"
   ]
  },
  {
   "cell_type": "markdown",
   "metadata": {},
   "source": [
    "Para o exercício, podemos assumir, sem perda de generalidade que $\\bar{x} = \\bar{y} = 0$, apenas para efeitos de simplificação das contas.<br>\n",
    "Vamos relembrar o estimador de minimos quadrados para os parâmetros $\\beta_0$ e $\\beta_1$\n",
    "\n",
    "$$\n",
    "\\begin{equation*}\n",
    "\\hat{\\beta}_0 = \\bar{y} - \\hat{\\beta}_1 \\bar{x}\n",
    "\\end{equation*}\n",
    "$$\n",
    "\n",
    "$$\n",
    "\\begin{equation*}\n",
    "\\hat{\\beta}_1 = \\frac{\\sum^n_{i = 1} (x_i - \\bar{x})(y_i - \\bar{y})}{\\sum^n_{i = 1} (x_i - \\bar{x})}\n",
    "\\end{equation*}\n",
    "$$\n",
    "Que, tomando a hipotese de simplificação temos\n",
    "$$\n",
    "\\begin{equation}\n",
    "\\hat{\\beta}_0 = 0 \\tag {3}\n",
    "\\end{equation}\n",
    "$$\n",
    "\n",
    "$$\n",
    "\\begin{equation}\n",
    "\\hat{\\beta}_1 = \\frac{\\sum^n_{i = 1} x_iy_i}{\\sum^n_{i = 1}x_i} \\tag{4}\n",
    "\\end{equation}\n",
    "$$"
   ]
  },
  {
   "cell_type": "markdown",
   "metadata": {},
   "source": [
    "\n",
    "$$\n",
    "\\newcommand{\\equalexpl}[1]{\\underset{\\substack{\\uparrow\\\\ \\\\ \\mathrlap{\\text{\\hspace{-1em}#1}}}}{=}}\n",
    "\\begin{align*}\n",
    "\\frac{\\displaystyle\\sum^n_{i=1}y_i^2 - \\displaystyle\\sum^n_{i=1}(y_i - \\hat{y}_i)^2}{\\displaystyle\\sum^n_{i=1}y_i^2} &\\equalexpl{substituindo (3)} \\frac{\\displaystyle\\sum^n_{i=1}y_i^2 - \\displaystyle\\sum^n_{i=1}(y_i - \\hat{\\beta}_1x_i)^2}{\\displaystyle\\sum^n_{i=1}y_i^2}\\\\\n",
    "&\\equalexpl{expandindo o quadrado} \\frac{\\cancel{\\displaystyle\\sum^n_{i=1}y_i^2} - \\cancel{\\displaystyle\\sum^n_{i=1}y_i^2} + 2\\hat{\\beta}_1\\displaystyle\\sum^n_{i=1}x_iy_i - \\beta_1^2\\displaystyle\\sum^n_{i=1} x_i^2 }{\\displaystyle\\sum^n_{i=1}y_i^2}\\\\\n",
    "&\\equalexpl{substituindo (4)} \\frac{\\cancel{2} \\frac{\\left(\\displaystyle\\sum^n_{i=1}x_iy_i\\right)^2}{\\displaystyle\\sum^n_{i=1}x_i^2}  - \\frac{\\cancel{\\left(\\displaystyle\\sum^n_{i=1}x_iy_i\\right)^2}}{\\left(\\displaystyle\\sum^n_{i=1}x_i^2\\right)^{\\bcancel{2}}}\\bcancel{\\displaystyle\\sum^n_{i=1} x_i^2} }{\\displaystyle\\sum^n_{i=1}y_i^2}\\\\\n",
    "&= \\frac{\\left(\\displaystyle\\sum^n_{i=1}x_iy_i\\right)^2}{\\displaystyle\\sum^n_{i=1}y_i^2 \\displaystyle\\sum^n_{i=1}x_i^2}\\\\\n",
    "&= Corr(X,Y)^2\\\\\n",
    "&\\therefore R^2 = r^2\n",
    "\\end{align*}\\\\\n",
    "\n",
    "$$\n"
   ]
  },
  {
   "cell_type": "markdown",
   "metadata": {},
   "source": [
    "Outra maneira de fazer, com um resultado mais geral, é utilizando as definições de Variância"
   ]
  },
  {
   "cell_type": "markdown",
   "metadata": {},
   "source": [
    "$$\\begin{align*}\n",
    "R^2 &= \\frac{Var\\left(\\hat{y}\\right)}{Var(y)}\\\\\n",
    "&= \\frac{Var(\\hat{\\beta}_0 + \\hat{\\beta}_1x)}{Var(y)}\\\\\n",
    "&= \\frac{Var(\\hat{\\beta}_1x)}{Var(y)}\\\\\n",
    "&= \\hat{\\beta}_1^2\\frac{Var(x)}{Var(y)}\\\\\n",
    "&= \\left(\\frac{Cov(x,y)}{Var(x)}\\right)^2 \\cdot \\frac{Var(x)}{Var(y)}\\\\\n",
    "&= \\frac{Cov(x,y)^2}{Var(x)\\cdot Var(y)}\\\\\n",
    "&= Corr(x,y)^2 = r^2\n",
    "\\end{align*}\n",
    "$$"
   ]
  }
 ],
 "metadata": {
  "language_info": {
   "name": "python"
  },
  "orig_nbformat": 4
 },
 "nbformat": 4,
 "nbformat_minor": 2
}
